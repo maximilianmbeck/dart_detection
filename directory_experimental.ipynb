{
 "cells": [
  {
   "cell_type": "code",
   "execution_count": 1,
   "source": [
    "from pathlib import Path\n",
    "import yaml"
   ],
   "outputs": [],
   "metadata": {}
  },
  {
   "cell_type": "code",
   "execution_count": 2,
   "source": [
    "path = Path('.')/Path('testthrows')\n",
    "strdiv_token = '-'\n",
    "series_id_idx = 3\n",
    "throw_id_idx = 4"
   ],
   "outputs": [],
   "metadata": {}
  },
  {
   "cell_type": "code",
   "execution_count": 3,
   "source": [
    "def get_images_in_directory(path: str):\n",
    "    p = Path(path)\n",
    "    jpg_images = [x.name for x in p.iterdir() if x.suffix ==\n",
    "                  '.JPG' or x.suffix == '.jpg']\n",
    "    jpg_images.sort()\n",
    "    return jpg_images"
   ],
   "outputs": [],
   "metadata": {}
  },
  {
   "cell_type": "code",
   "execution_count": 4,
   "source": [
    "image_files = get_images_in_directory(path)\n",
    "image_files"
   ],
   "outputs": [
    {
     "output_type": "execute_result",
     "data": {
      "text/plain": [
       "['magictest-20210903-125507-10-3-image.JPG',\n",
       " 'magictest-20210903-135507-5-4-image.JPG',\n",
       " 'magictest-20210903-145506-10-0-image.JPG',\n",
       " 'magictest-20210903-145506-5-0-image.JPG',\n",
       " 'magictest-20210903-145507-10-1-image.JPG',\n",
       " 'magictest-20210903-145507-10-2-image.JPG',\n",
       " 'magictest-20210903-145507-10-4-image.JPG',\n",
       " 'magictest-20210903-145507-5-1-image.JPG',\n",
       " 'magictest-20210903-145507-5-2-image.JPG',\n",
       " 'magictest-20210903-145507-5-3-image.JPG']"
      ]
     },
     "metadata": {},
     "execution_count": 4
    }
   ],
   "metadata": {}
  },
  {
   "cell_type": "code",
   "execution_count": 5,
   "source": [
    "image_files[0].split('-')"
   ],
   "outputs": [
    {
     "output_type": "execute_result",
     "data": {
      "text/plain": [
       "['magictest', '20210903', '125507', '10', '3', 'image.JPG']"
      ]
     },
     "metadata": {},
     "execution_count": 5
    }
   ],
   "metadata": {}
  },
  {
   "cell_type": "code",
   "execution_count": 6,
   "source": [
    "def get_series_by_ids(image_filenames: list, split_token='-', series_id_idx=3, throw_id_idx=4)->dict:\n",
    "    \"\"\"\n",
    "    Returns a dict (series_ids as keys), which contains another dict (throw_ids as keys).\n",
    "    \"\"\"\n",
    "    series_by_ids = {}\n",
    "\n",
    "    for img_fn in image_filenames:\n",
    "        tokenized_img_fn = img_fn.split(split_token)\n",
    "        series_id = int(tokenized_img_fn[series_id_idx])\n",
    "        throw_id = int(tokenized_img_fn[throw_id_idx])\n",
    "        if series_id not in series_by_ids:\n",
    "            series_by_ids[series_id] = {}\n",
    "        series_by_ids[series_id][throw_id] = img_fn\n",
    "    \n",
    "    return series_by_ids"
   ],
   "outputs": [],
   "metadata": {}
  },
  {
   "cell_type": "code",
   "execution_count": 7,
   "source": [
    "a = get_series_by_ids(image_files)\n",
    "a"
   ],
   "outputs": [
    {
     "output_type": "execute_result",
     "data": {
      "text/plain": [
       "{10: {3: 'magictest-20210903-125507-10-3-image.JPG',\n",
       "  0: 'magictest-20210903-145506-10-0-image.JPG',\n",
       "  1: 'magictest-20210903-145507-10-1-image.JPG',\n",
       "  2: 'magictest-20210903-145507-10-2-image.JPG',\n",
       "  4: 'magictest-20210903-145507-10-4-image.JPG'},\n",
       " 5: {4: 'magictest-20210903-135507-5-4-image.JPG',\n",
       "  0: 'magictest-20210903-145506-5-0-image.JPG',\n",
       "  1: 'magictest-20210903-145507-5-1-image.JPG',\n",
       "  2: 'magictest-20210903-145507-5-2-image.JPG',\n",
       "  3: 'magictest-20210903-145507-5-3-image.JPG'}}"
      ]
     },
     "metadata": {},
     "execution_count": 7
    }
   ],
   "metadata": {}
  },
  {
   "cell_type": "code",
   "execution_count": 12,
   "source": [
    "for series_id in sorted(a.keys()):\n",
    "    for throw_id in sorted(a[series_id].keys()):\n",
    "        print(a[series_id][throw_id])"
   ],
   "outputs": [
    {
     "output_type": "stream",
     "name": "stdout",
     "text": [
      "magictest-20210903-145506-5-0-image.JPG\n",
      "magictest-20210903-145507-5-1-image.JPG\n",
      "magictest-20210903-145507-5-2-image.JPG\n",
      "magictest-20210903-145507-5-3-image.JPG\n",
      "magictest-20210903-135507-5-4-image.JPG\n",
      "magictest-20210903-145506-10-0-image.JPG\n",
      "magictest-20210903-145507-10-1-image.JPG\n",
      "magictest-20210903-145507-10-2-image.JPG\n",
      "magictest-20210903-125507-10-3-image.JPG\n",
      "magictest-20210903-145507-10-4-image.JPG\n"
     ]
    }
   ],
   "metadata": {}
  },
  {
   "cell_type": "code",
   "execution_count": 4,
   "source": [
    "s = ''\n",
    "s += 'hallo \\n'\n",
    "print(s)"
   ],
   "outputs": [
    {
     "output_type": "stream",
     "name": "stdout",
     "text": [
      "hallo \n",
      "\n"
     ]
    }
   ],
   "metadata": {}
  },
  {
   "cell_type": "code",
   "execution_count": null,
   "source": [
    "for id_ in a:\n",
    "    print(id_)"
   ],
   "outputs": [
    {
     "output_type": "stream",
     "name": "stdout",
     "text": [
      "10\n",
      "5\n"
     ]
    }
   ],
   "metadata": {}
  },
  {
   "cell_type": "code",
   "execution_count": null,
   "source": [
    "a"
   ],
   "outputs": [
    {
     "output_type": "execute_result",
     "data": {
      "text/plain": [
       "{0, 1}"
      ]
     },
     "metadata": {},
     "execution_count": 9
    }
   ],
   "metadata": {}
  },
  {
   "cell_type": "code",
   "execution_count": null,
   "source": [
    "a"
   ],
   "outputs": [],
   "metadata": {}
  }
 ],
 "metadata": {
  "orig_nbformat": 4,
  "language_info": {
   "name": "python",
   "version": "3.9.6",
   "mimetype": "text/x-python",
   "codemirror_mode": {
    "name": "ipython",
    "version": 3
   },
   "pygments_lexer": "ipython3",
   "nbconvert_exporter": "python",
   "file_extension": ".py"
  },
  "kernelspec": {
   "name": "python3",
   "display_name": "Python 3.9.6 64-bit ('radar': conda)"
  },
  "interpreter": {
   "hash": "4655ea162707fa65996cd0336a2b231b95b24dc96d582533165f5f5a0dbf8dee"
  }
 },
 "nbformat": 4,
 "nbformat_minor": 2
}